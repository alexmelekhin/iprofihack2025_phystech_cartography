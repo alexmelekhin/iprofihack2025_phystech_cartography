{
 "cells": [
  {
   "cell_type": "markdown",
   "id": "fdf072cf",
   "metadata": {},
   "source": [
    "а почему бы и нет?"
   ]
  },
  {
   "cell_type": "code",
   "execution_count": 2,
   "id": "db55fc21",
   "metadata": {},
   "outputs": [
    {
     "name": "stdout",
     "output_type": "stream",
     "text": [
      "Submissions saved to /home/melekhin_aa/Work/iprofihack2025_phystech_cartography/submissions/random_baseline.txt\n"
     ]
    }
   ],
   "source": [
    "import random\n",
    "from pathlib import Path\n",
    "\n",
    "submissions_dir = Path.cwd().parent / \"submissions\"\n",
    "\n",
    "db_len = 2096\n",
    "query_len = 2044\n",
    "output_ids = [random.randint(0, db_len-1) for _ in range(query_len)]\n",
    "\n",
    "with open(submissions_dir / \"random_baseline.txt\", \"w\") as f:\n",
    "    for idx in output_ids:\n",
    "        f.write(f\"{idx}\\n\")\n",
    "\n",
    "print(f\"Submissions saved to {submissions_dir / 'random_baseline.txt'}\")"
   ]
  },
  {
   "cell_type": "code",
   "execution_count": null,
   "id": "97162132",
   "metadata": {},
   "outputs": [],
   "source": []
  }
 ],
 "metadata": {
  "kernelspec": {
   "display_name": "iprofihack2025-phystech-cartography",
   "language": "python",
   "name": "python3"
  },
  "language_info": {
   "codemirror_mode": {
    "name": "ipython",
    "version": 3
   },
   "file_extension": ".py",
   "mimetype": "text/x-python",
   "name": "python",
   "nbconvert_exporter": "python",
   "pygments_lexer": "ipython3",
   "version": "3.10.18"
  }
 },
 "nbformat": 4,
 "nbformat_minor": 5
}
